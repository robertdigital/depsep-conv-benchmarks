{
  "nbformat": 4,
  "nbformat_minor": 0,
  "metadata": {
    "kernelspec": {
      "name": "python3",
      "display_name": "Python 3"
    },
    "language_info": {
      "codemirror_mode": {
        "name": "ipython",
        "version": 3
      },
      "file_extension": ".py",
      "mimetype": "text/x-python",
      "name": "python",
      "nbconvert_exporter": "python",
      "pygments_lexer": "ipython3",
      "version": "3.6.7"
    },
    "colab": {
      "name": "conv_microbenchmark_tpu.ipynb",
      "provenance": [],
      "collapsed_sections": []
    },
    "accelerator": "TPU"
  },
  "cells": [
    {
      "cell_type": "code",
      "metadata": {
        "id": "zXOCcjJg9TYd",
        "colab_type": "code",
        "colab": {}
      },
      "source": [
        "%tensorflow_version 2.x"
      ],
      "execution_count": 0,
      "outputs": []
    },
    {
      "cell_type": "code",
      "metadata": {
        "id": "6-shtMEV9TYk",
        "colab_type": "code",
        "colab": {
          "base_uri": "https://localhost:8080/",
          "height": 170
        },
        "outputId": "08ee0bdb-a26a-4e94-a345-0a84f87a274f"
      },
      "source": [
        "import os\n",
        "import time\n",
        "import numpy as np\n",
        "import tensorflow as tf\n",
        "import tensorflow.keras.layers as l\n",
        "\n",
        "resolver = tf.distribute.cluster_resolver.TPUClusterResolver(tpu='grpc://' + os.environ['COLAB_TPU_ADDR'])\n",
        "tf.config.experimental_connect_to_cluster(resolver)\n",
        "tf.tpu.experimental.initialize_tpu_system(resolver)"
      ],
      "execution_count": 8,
      "outputs": [
        {
          "output_type": "stream",
          "text": [
            "WARNING:tensorflow:TPU system 10.64.225.42:8470 has already been initialized. Reinitializing the TPU can cause previously created variables on TPU to be lost.\n"
          ],
          "name": "stdout"
        },
        {
          "output_type": "stream",
          "text": [
            "WARNING:tensorflow:TPU system 10.64.225.42:8470 has already been initialized. Reinitializing the TPU can cause previously created variables on TPU to be lost.\n"
          ],
          "name": "stderr"
        },
        {
          "output_type": "stream",
          "text": [
            "INFO:tensorflow:Initializing the TPU system: 10.64.225.42:8470\n"
          ],
          "name": "stdout"
        },
        {
          "output_type": "stream",
          "text": [
            "INFO:tensorflow:Initializing the TPU system: 10.64.225.42:8470\n"
          ],
          "name": "stderr"
        },
        {
          "output_type": "stream",
          "text": [
            "INFO:tensorflow:Clearing out eager caches\n"
          ],
          "name": "stdout"
        },
        {
          "output_type": "stream",
          "text": [
            "INFO:tensorflow:Clearing out eager caches\n"
          ],
          "name": "stderr"
        },
        {
          "output_type": "stream",
          "text": [
            "INFO:tensorflow:Finished initializing TPU system.\n"
          ],
          "name": "stdout"
        },
        {
          "output_type": "stream",
          "text": [
            "INFO:tensorflow:Finished initializing TPU system.\n"
          ],
          "name": "stderr"
        },
        {
          "output_type": "execute_result",
          "data": {
            "text/plain": [
              "<tensorflow.python.tpu.topology.Topology at 0x7fdfc2c87668>"
            ]
          },
          "metadata": {
            "tags": []
          },
          "execution_count": 8
        }
      ]
    },
    {
      "cell_type": "code",
      "metadata": {
        "id": "HFdz7-b59TYr",
        "colab_type": "code",
        "colab": {}
      },
      "source": [
        "num_img = 16\n",
        "num_filter = 128\n",
        "num_it = 5000\n",
        "num_it = 10 + num_it//num_img\n",
        "dtype = tf.bfloat16\n",
        "kernel = (3,3)"
      ],
      "execution_count": 0,
      "outputs": []
    },
    {
      "cell_type": "code",
      "metadata": {
        "id": "X7rdhfX99TYv",
        "colab_type": "code",
        "colab": {
          "base_uri": "https://localhost:8080/",
          "height": 102
        },
        "outputId": "da84fbd6-5747-4b23-a569-8b5420696652"
      },
      "source": [
        "with tf.device('/job:worker/replica:0/task:0/device:TPU:0'):\n",
        "    synthetic_data = tf.random.normal((num_img,224,224,128),\n",
        "                                      mean=0.0,\n",
        "                                      stddev=0.5,\n",
        "                                      dtype=dtype)\n",
        "    \n",
        "    depsep_conv_2d = l.SeparableConv2D(filters=num_filter, kernel_size=kernel, dtype=dtype)\n",
        "    conv_2d = l.Conv2D(filters=num_filter, kernel_size=kernel, dtype=dtype)\n",
        "\n",
        "    @tf.function\n",
        "    def conv_2d_forward(data):\n",
        "        return conv_2d(data)\n",
        "    \n",
        "    @tf.function\n",
        "    def depsep_conv_2d_forward(data):\n",
        "        return depsep_conv_2d(data)\n",
        "        \n",
        "    # warm-up\n",
        "    print(\"Warm-up...\")\n",
        "    for _ in range(3):\n",
        "        conv_2d_forward(synthetic_data)\n",
        "        conv_2d_forward(synthetic_data).numpy()\n",
        "        depsep_conv_2d_forward(synthetic_data)\n",
        "        depsep_conv_2d_forward(synthetic_data).numpy()\n",
        "    print(\"Warm-up completed\")\n",
        "    \n",
        "    print(\"Remove constant overhead:\")\n",
        "    st = time.time()\n",
        "    for _ in range(30):\n",
        "        conv_2d_forward(synthetic_data).numpy()\n",
        "    et = time.time()\n",
        "    conv_overhead = (et-st)/30\n",
        "    print(\"* Conv2D:\", conv_overhead)\n",
        "    st = time.time()\n",
        "    for _ in range(30):\n",
        "        depsep_conv_2d_forward(synthetic_data).numpy()\n",
        "    et = time.time()\n",
        "    depsep_conv_overhead = (et-st)/30\n",
        "    print(\"* SeparableConv2D:\", depsep_conv_overhead)"
      ],
      "execution_count": 10,
      "outputs": [
        {
          "output_type": "stream",
          "text": [
            "Warm-up...\n",
            "Warm-up completed\n",
            "Remove constant overhead:\n",
            "* Conv2D: 0.3245253403981527\n",
            "* SeparableConv2D: 0.3583238442738851\n"
          ],
          "name": "stdout"
        }
      ]
    },
    {
      "cell_type": "code",
      "metadata": {
        "id": "qWkzMClP9TY1",
        "colab_type": "code",
        "colab": {
          "base_uri": "https://localhost:8080/",
          "height": 51
        },
        "outputId": "6b23e55c-368e-4716-d388-53f37c8a42a4"
      },
      "source": [
        "print(\"Benchmark for Conv2D\", kernel, dtype)\n",
        "\n",
        "with tf.device('/job:worker/replica:0/task:0/device:TPU:0'):\n",
        "    st = time.time()\n",
        "    for _ in range(num_it-1):\n",
        "        conv_2d_forward(synthetic_data)\n",
        "    conv_2d_forward(synthetic_data).numpy()\n",
        "    et = time.time()\n",
        "\n",
        "    tt = et - st - conv_overhead\n",
        "    conv_2d_score = int(num_img*num_it/tt)\n",
        "\n",
        "    print(\"Conv2D per sec:\", conv_2d_score)"
      ],
      "execution_count": 11,
      "outputs": [
        {
          "output_type": "stream",
          "text": [
            "Benchmark for Conv2D (3, 3) <dtype: 'bfloat16'>\n",
            "Conv2D per sec: 1446\n"
          ],
          "name": "stdout"
        }
      ]
    },
    {
      "cell_type": "code",
      "metadata": {
        "colab_type": "code",
        "outputId": "b0555c47-2e2d-4022-d39e-64717f79453f",
        "id": "nddcHHU69meT",
        "colab": {
          "base_uri": "https://localhost:8080/",
          "height": 51
        }
      },
      "source": [
        "print(\"Benchmark for SeparableConv2D\", kernel, dtype)\n",
        "\n",
        "with tf.device('/job:worker/replica:0/task:0/device:TPU:0'):\n",
        "    st = time.time()\n",
        "    for _ in range(num_it-1):\n",
        "        depsep_conv_2d_forward(synthetic_data)\n",
        "    depsep_conv_2d_forward(synthetic_data).numpy()\n",
        "    et = time.time()\n",
        "\n",
        "    tt = et - st - depsep_conv_overhead\n",
        "    depsep_conv_2d_score = int(num_img*num_it/tt)\n",
        "\n",
        "    print(\"SeparableConv2D per sec:\", depsep_conv_2d_score)"
      ],
      "execution_count": 12,
      "outputs": [
        {
          "output_type": "stream",
          "text": [
            "Benchmark for SeparableConv2D (3, 3) <dtype: 'bfloat16'>\n",
            "SeparableConv2D per sec: 526\n"
          ],
          "name": "stdout"
        }
      ]
    },
    {
      "cell_type": "code",
      "metadata": {
        "id": "ne8mOscR9TZD",
        "colab_type": "code",
        "colab": {}
      },
      "source": [
        ""
      ],
      "execution_count": 0,
      "outputs": []
    }
  ]
}